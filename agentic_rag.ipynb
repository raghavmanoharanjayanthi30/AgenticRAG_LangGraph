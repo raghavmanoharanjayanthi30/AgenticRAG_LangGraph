{
 "cells": [
  {
   "cell_type": "code",
   "execution_count": 2,
   "id": "41de1516",
   "metadata": {},
   "outputs": [],
   "source": [
    "from langchain_openai import ChatOpenAI, OpenAIEmbeddings\n",
    "\n",
    "#https://python.langchain.com/docs/tutorials/rag/"
   ]
  },
  {
   "cell_type": "code",
   "execution_count": 3,
   "id": "d671c1ab",
   "metadata": {},
   "outputs": [],
   "source": [
    "# Load documents from directory\n",
    "from langchain_community.document_loaders import PyPDFDirectoryLoader\n",
    "\n",
    "loader = PyPDFDirectoryLoader(\"pinnacle_capstone_data\")\n",
    "docs = loader.load()"
   ]
  },
  {
   "cell_type": "code",
   "execution_count": 4,
   "id": "6e7cd3b0",
   "metadata": {},
   "outputs": [
    {
     "data": {
      "text/plain": [
       "95"
      ]
     },
     "execution_count": 4,
     "metadata": {},
     "output_type": "execute_result"
    }
   ],
   "source": [
    "len(docs)"
   ]
  },
  {
   "cell_type": "code",
   "execution_count": 5,
   "id": "1eb381c2",
   "metadata": {},
   "outputs": [],
   "source": [
    "# Experiment with embedding models\n",
    "from langchain_openai import OpenAIEmbeddings\n",
    "from langchain_ollama import OllamaEmbeddings\n",
    "import os, yaml\n",
    "\n",
    "with open('chatgpt_api_credentials.yml') as f:\n",
    "    credentials = yaml.safe_load(f)\n",
    "\n",
    "os.environ['OPENAI_API_KEY']=credentials['openai_key']\n",
    "\n",
    "openai_embed_model = OpenAIEmbeddings(model='text-embedding-3-small')\n",
    "\n",
    "llama_embed_model = OllamaEmbeddings(\n",
    "    model=\"llama3.2\"\n",
    ")"
   ]
  },
  {
   "cell_type": "code",
   "execution_count": 6,
   "id": "3e5c2856",
   "metadata": {
    "scrolled": true
   },
   "outputs": [],
   "source": [
    "from langchain_text_splitters import RecursiveCharacterTextSplitter\n",
    "\n",
    "text_splitter = RecursiveCharacterTextSplitter(chunk_size=1000, chunk_overlap=200)\n",
    "all_splits = text_splitter.split_documents(docs)"
   ]
  },
  {
   "cell_type": "code",
   "execution_count": 7,
   "id": "d287dca0",
   "metadata": {},
   "outputs": [
    {
     "data": {
      "text/plain": [
       "393"
      ]
     },
     "execution_count": 7,
     "metadata": {},
     "output_type": "execute_result"
    }
   ],
   "source": [
    "len(all_splits)"
   ]
  },
  {
   "cell_type": "code",
   "execution_count": 8,
   "id": "bea9a432",
   "metadata": {},
   "outputs": [],
   "source": [
    "# https://python.langchain.com/docs/integrations/vectorstores/chroma/\n",
    "from langchain_chroma import Chroma\n",
    "\n",
    "# Two vecto stores for two embedding models -> different collections to avoid dimensionality error \n",
    "# Open ai and llama embeddings have different lengths\n",
    "vector_store1 = Chroma(collection_name=\"openai_collection_1\", embedding_function=openai_embed_model,\n",
    "                      persist_directory=\"./chroma_db3\")\n",
    "\n",
    "#vectordb = Chroma.from_documents(documents=splits, embedding=openai_embed_model)\n",
    "#vectordb = Chroma.from_documents(documents=splits, embedding=llama_embed_model)"
   ]
  },
  {
   "cell_type": "code",
   "execution_count": 9,
   "id": "ad4c066d",
   "metadata": {},
   "outputs": [],
   "source": [
    "vector_store2 = Chroma(\n",
    "    collection_name=\"llama_collection_1\", \n",
    "    embedding_function=llama_embed_model,\n",
    "    persist_directory=\"./chroma_db4\"  # Specify a directory to store the data\n",
    ")"
   ]
  },
  {
   "cell_type": "code",
   "execution_count": 11,
   "id": "8908edc1",
   "metadata": {},
   "outputs": [
    {
     "data": {
      "text/plain": [
       "<langchain_chroma.vectorstores.Chroma at 0x114e409d0>"
      ]
     },
     "execution_count": 11,
     "metadata": {},
     "output_type": "execute_result"
    }
   ],
   "source": []
  },
  {
   "cell_type": "code",
   "execution_count": null,
   "id": "db12bcdb",
   "metadata": {},
   "outputs": [],
   "source": []
  },
  {
   "cell_type": "code",
   "execution_count": 13,
   "id": "8f034367",
   "metadata": {
    "scrolled": false
   },
   "outputs": [],
   "source": [
    "# add documents to both vector stores\n",
    "document_ids_1 = vector_store1.add_documents(documents=all_splits[:])\n",
    "document_ids_2 = vector_store2.add_documents(documents=all_splits[:])"
   ]
  },
  {
   "cell_type": "code",
   "execution_count": 14,
   "id": "1846ff11",
   "metadata": {},
   "outputs": [],
   "source": [
    "retriever = vector_store1.as_retriever(search_type=\"mmr\")"
   ]
  },
  {
   "cell_type": "code",
   "execution_count": 15,
   "id": "63ce6410",
   "metadata": {},
   "outputs": [],
   "source": [
    "docs = retriever.invoke(\"what is attention\")"
   ]
  },
  {
   "cell_type": "code",
   "execution_count": 16,
   "id": "df2ca084",
   "metadata": {},
   "outputs": [
    {
     "data": {
      "text/plain": [
       "4"
      ]
     },
     "execution_count": 16,
     "metadata": {},
     "output_type": "execute_result"
    }
   ],
   "source": [
    "len(docs)"
   ]
  },
  {
   "cell_type": "code",
   "execution_count": 17,
   "id": "0c53bf14",
   "metadata": {},
   "outputs": [
    {
     "name": "stderr",
     "output_type": "stream",
     "text": [
      "/var/folders/81/7z5hxt0d3cbd95svhrc31swh0000gn/T/ipykernel_19882/868067471.py:39: LangChainDeprecationWarning: The class `LLMChain` was deprecated in LangChain 0.1.17 and will be removed in 1.0. Use :meth:`~RunnableSequence, e.g., `prompt | llm`` instead.\n",
      "  llm_chain = LLMChain(llm=llm, prompt=QUERY_PROMPT)\n"
     ]
    }
   ],
   "source": [
    "from typing import List\n",
    "\n",
    "from langchain.chains import LLMChain\n",
    "from langchain.output_parsers import PydanticOutputParser\n",
    "from langchain_core.prompts import PromptTemplate\n",
    "from pydantic import BaseModel, Field\n",
    "from langchain.retrievers.multi_query import MultiQueryRetriever\n",
    "from langchain_openai import ChatOpenAI\n",
    "\n",
    "# Output parser will split the LLM result into a list of queries\n",
    "class LineList(BaseModel):\n",
    "    # \"lines\" is the key (attribute name) of the parsed output\n",
    "    lines: List[str] = Field(description=\"Lines of text\")\n",
    "\n",
    "\n",
    "class LineListOutputParser(PydanticOutputParser):\n",
    "    def __init__(self) -> None:\n",
    "        super().__init__(pydantic_object=LineList)\n",
    "\n",
    "    def parse(self, text: str) -> LineList:\n",
    "        lines = text.strip().split(\"\\n\")\n",
    "        return LineList(lines=lines)\n",
    "\n",
    "\n",
    "#output_parser = LineListOutputParser()\n",
    "\n",
    "QUERY_PROMPT = PromptTemplate(\n",
    "    input_variables=[\"question\"],\n",
    "    template=\"\"\"You are an AI language model assistant. Your task is to generate two \n",
    "    different versions of the given user question to retrieve relevant documents from a vector \n",
    "    database. By generating multiple perspectives on the user question, your goal is to help\n",
    "    the user overcome some of the limitations of the distance-based similarity search. \n",
    "    Provide these alternative questions separated by newlines.\n",
    "    Original question: {question}\"\"\",\n",
    ")\n",
    "llm = ChatOpenAI(temperature=0)\n",
    "\n",
    "# Chain\n",
    "llm_chain = LLMChain(llm=llm, prompt=QUERY_PROMPT)\n",
    "\n",
    "# Run\n",
    "multi_query_retriever = MultiQueryRetriever(\n",
    "    retriever=vector_store1.as_retriever(), llm_chain=llm_chain #parser_key=\"lines\"\n",
    ")  # \"lines\" is the key (attribute name) of the parsed output"
   ]
  },
  {
   "cell_type": "code",
   "execution_count": 18,
   "id": "412fc662",
   "metadata": {},
   "outputs": [
    {
     "data": {
      "text/plain": [
       "72"
      ]
     },
     "execution_count": 18,
     "metadata": {},
     "output_type": "execute_result"
    }
   ],
   "source": [
    "# Results\n",
    "unique_docs = multi_query_retriever.invoke(input=\"What is attention\")\n",
    "len(unique_docs)"
   ]
  },
  {
   "cell_type": "code",
   "execution_count": 19,
   "id": "f05f469a",
   "metadata": {},
   "outputs": [
    {
     "data": {
      "text/plain": [
       "Document(id='9366f1f0-3ce5-401a-944b-ec7d02607ab4', metadata={'author': '', 'creationdate': '2024-04-10T21:11:43+00:00', 'creator': 'LaTeX with hyperref', 'keywords': '', 'moddate': '2024-04-10T21:11:43+00:00', 'page': 12, 'page_label': '13', 'producer': 'pdfTeX-1.40.25', 'ptex.fullbanner': 'This is pdfTeX, Version 3.141592653-2.6-1.40.25 (TeX Live 2023) kpathsea version 6.3.5', 'source': 'pinnacle_capstone_data/attention_paper.pdf', 'subject': '', 'title': '', 'total_pages': 15, 'trapped': '/False'}, page_content='Attention Visualizations\\nInput-Input Layer5\\nIt\\nis\\nin\\nthis\\nspirit\\nthat\\na\\nmajority\\nof\\nAmerican\\ngovernments\\nhave\\npassed\\nnew\\nlaws\\nsince\\n2009\\nmaking\\nthe\\nregistration\\nor\\nvoting\\nprocess\\nmore\\ndifficult\\n.\\n<EOS>\\n<pad>\\n<pad>\\n<pad>\\n<pad>\\n<pad>\\n<pad>\\nIt\\nis\\nin\\nthis\\nspirit\\nthat\\na\\nmajority\\nof\\nAmerican\\ngovernments\\nhave\\npassed\\nnew\\nlaws\\nsince\\n2009\\nmaking\\nthe\\nregistration\\nor\\nvoting\\nprocess\\nmore\\ndifficult\\n.\\n<EOS>\\n<pad>\\n<pad>\\n<pad>\\n<pad>\\n<pad>\\n<pad>\\nFigure 3: An example of the attention mechanism following long-distance dependencies in the\\nencoder self-attention in layer 5 of 6. Many of the attention heads attend to a distant dependency of\\nthe verb ‘making’, completing the phrase ‘making...more difficult’. Attentions here shown only for\\nthe word ‘making’. Different colors represent different heads. Best viewed in color.\\n13')"
      ]
     },
     "execution_count": 19,
     "metadata": {},
     "output_type": "execute_result"
    }
   ],
   "source": [
    "unique_docs[0]"
   ]
  },
  {
   "cell_type": "code",
   "execution_count": 20,
   "id": "bc3f172c",
   "metadata": {},
   "outputs": [],
   "source": [
    "question = \"What are the approaches to Task Decomposition?\"\n",
    "llm = ChatOpenAI(temperature=0)\n",
    "retriever_from_llm = MultiQueryRetriever.from_llm(\n",
    "    retriever=vector_store2.as_retriever(), llm=llm\n",
    ")\n",
    "unique_docs = retriever_from_llm.invoke(question)"
   ]
  },
  {
   "cell_type": "code",
   "execution_count": 21,
   "id": "266aeed7",
   "metadata": {},
   "outputs": [
    {
     "data": {
      "text/plain": [
       "6"
      ]
     },
     "execution_count": 21,
     "metadata": {},
     "output_type": "execute_result"
    }
   ],
   "source": [
    "len(unique_docs)"
   ]
  },
  {
   "cell_type": "code",
   "execution_count": 22,
   "id": "bfb32a68",
   "metadata": {},
   "outputs": [],
   "source": [
    "# This text splitter is used to create the parent documents\n",
    "from langchain.retrievers import ParentDocumentRetriever\n",
    "from langchain.storage import InMemoryStore\n",
    "\n",
    "vectorstore = Chroma(\n",
    "    collection_name=\"full_documents\", embedding_function=OpenAIEmbeddings()\n",
    ")\n",
    "\n",
    "parent_splitter = RecursiveCharacterTextSplitter(chunk_size=2000)\n",
    "# This text splitter is used to create the child documents\n",
    "# It should create documents smaller than the parent\n",
    "child_splitter = RecursiveCharacterTextSplitter(chunk_size=400)\n",
    "store = InMemoryStore()\n",
    "p_retriever = ParentDocumentRetriever(\n",
    "    vectorstore=vectorstore,\n",
    "    docstore=store,\n",
    "    child_splitter=child_splitter,\n",
    ")"
   ]
  },
  {
   "cell_type": "code",
   "execution_count": 23,
   "id": "2d12814d",
   "metadata": {},
   "outputs": [],
   "source": [
    "p_retriever.add_documents(docs, ids=None)"
   ]
  },
  {
   "cell_type": "code",
   "execution_count": 24,
   "id": "06534050",
   "metadata": {},
   "outputs": [],
   "source": [
    "retrieved_docs = p_retriever.invoke(\"what is attention\")"
   ]
  },
  {
   "cell_type": "code",
   "execution_count": 25,
   "id": "92917b2f",
   "metadata": {},
   "outputs": [
    {
     "data": {
      "text/plain": [
       "2"
      ]
     },
     "execution_count": 25,
     "metadata": {},
     "output_type": "execute_result"
    }
   ],
   "source": [
    "len(retrieved_docs)"
   ]
  },
  {
   "cell_type": "code",
   "execution_count": 26,
   "id": "13db8759",
   "metadata": {
    "scrolled": true
   },
   "outputs": [
    {
     "name": "stdout",
     "output_type": "stream",
     "text": [
      "3.2 Attention\n",
      "An attention function can be described as mapping a query and a set of key-value pairs to an output,\n",
      "where the query, keys, values, and output are all vectors. The output is computed as a weighted sum\n",
      "3\n",
      "\n",
      "////////\n",
      "in the distance between positions, linearly for ConvS2S and logarithmically for ByteNet. This makes\n",
      "it more difficult to learn dependencies between distant positions [ 12]. In the Transformer this is\n",
      "reduced to a constant number of operations, albeit at the cost of reduced effective resolution due\n",
      "to averaging attention-weighted positions, an effect we counteract with Multi-Head Attention as\n",
      "described in section 3.2.\n",
      "Self-attention, sometimes called intra-attention is an attention mechanism relating different positions\n",
      "of a single sequence in order to compute a representation of the sequence. Self-attention has been\n",
      "used successfully in a variety of tasks including reading comprehension, abstractive summarization,\n",
      "textual entailment and learning task-independent sentence representations [4, 27, 28, 22].\n",
      "End-to-end memory networks are based on a recurrent attention mechanism instead of sequence-\n",
      "\n",
      "////////\n"
     ]
    }
   ],
   "source": [
    "for i in range(len(retrieved_docs)):\n",
    "    print(retrieved_docs[i].page_content)\n",
    "    print()\n",
    "    print('////////')"
   ]
  },
  {
   "cell_type": "code",
   "execution_count": 27,
   "id": "467097f5",
   "metadata": {},
   "outputs": [
    {
     "name": "stderr",
     "output_type": "stream",
     "text": [
      "USER_AGENT environment variable not set, consider setting it to identify your requests.\n",
      "/opt/homebrew/lib/python3.11/site-packages/langsmith/client.py:241: LangSmithMissingAPIKeyWarning: API key must be provided when using hosted LangSmith API\n",
      "  warnings.warn(\n"
     ]
    }
   ],
   "source": [
    "import bs4\n",
    "from langchain import hub\n",
    "from langchain_community.document_loaders import WebBaseLoader\n",
    "from langchain_core.documents import Document\n",
    "from langchain_text_splitters import RecursiveCharacterTextSplitter\n",
    "from langgraph.graph import START, StateGraph\n",
    "from typing_extensions import List, TypedDict\n",
    "\n",
    "# Define prompt for question-answering\n",
    "prompt = hub.pull(\"rlm/rag-prompt\")\n",
    "\n",
    "class State(TypedDict):\n",
    "    question: str\n",
    "    context: List[Document]\n",
    "    answer: str"
   ]
  },
  {
   "cell_type": "code",
   "execution_count": 28,
   "id": "030eba68",
   "metadata": {},
   "outputs": [],
   "source": [
    "def retrieve(state: State):\n",
    "    #retrieved_docs = vector_store.similarity_search(state[\"question\"])\n",
    "    retrieved_docs = multi_query_retriever.invoke(input=state['question'])\n",
    "    return {\"context\": retrieved_docs}\n",
    "\n",
    "\n",
    "def generate(state: State):\n",
    "    docs_content = \"\\n\\n\".join(doc.page_content for doc in state[\"context\"])\n",
    "    messages = prompt.invoke({\"question\": state[\"question\"], \"context\": docs_content})\n",
    "    response = llm.invoke(messages)\n",
    "    return {\"answer\": response.content}"
   ]
  },
  {
   "cell_type": "code",
   "execution_count": 29,
   "id": "93f9535e",
   "metadata": {},
   "outputs": [],
   "source": [
    "# Compile application and test\n",
    "graph_builder = StateGraph(State).add_sequence([retrieve, generate])\n",
    "graph_builder.add_edge(START, \"retrieve\")\n",
    "graph = graph_builder.compile()"
   ]
  },
  {
   "cell_type": "code",
   "execution_count": 30,
   "id": "8f4282d0",
   "metadata": {},
   "outputs": [
    {
     "name": "stdout",
     "output_type": "stream",
     "text": [
      "Attention is a mechanism in machine learning models that allows them to focus on specific parts of input data during processing. It helps the model to prioritize certain information and make more informed decisions based on the highlighted features. In the context provided, attention is visualized as heads attending to distant dependencies in the input data, such as completing phrases or identifying key words.\n"
     ]
    }
   ],
   "source": [
    "response = graph.invoke({\"question\": \"What is attention?\"})\n",
    "print(response[\"answer\"])"
   ]
  },
  {
   "cell_type": "code",
   "execution_count": 31,
   "id": "3ac47392",
   "metadata": {},
   "outputs": [],
   "source": [
    "# FOR AGENTIC RAG\n",
    "import os, yaml\n",
    "with open('tavily_api_credentials.yml') as f:\n",
    "    credentials = yaml.safe_load(f)\n",
    "os.environ['TAVILY_API_KEY']=credentials['TAVILY_API_KEY']"
   ]
  },
  {
   "cell_type": "code",
   "execution_count": 32,
   "id": "fa214d51",
   "metadata": {},
   "outputs": [],
   "source": [
    "from langchain_community.tools.tavily_search import TavilySearchResults\n",
    "tv_search = TavilySearchResults(max_results=3, search_depth='advanced',max_tokens=10000)"
   ]
  },
  {
   "cell_type": "code",
   "execution_count": null,
   "id": "2989f01b",
   "metadata": {},
   "outputs": [],
   "source": []
  },
  {
   "cell_type": "code",
   "execution_count": 33,
   "id": "f90f6b56",
   "metadata": {},
   "outputs": [],
   "source": [
    "from langchain_core.prompts import ChatPromptTemplate\n",
    "from langchain_openai import ChatOpenAI\n",
    "from langchain_core.runnables import RunnablePassthrough, RunnableLambda\n",
    "from langchain_core.output_parsers import StrOutputParser\n",
    "from operator import itemgetter\n",
    "\n",
    "# 1.QUERY RETRIEVAL GRADER\n",
    "from langchain_core.prompts import ChatPromptTemplate\n",
    "from langchain_core.pydantic_v1 import BaseModel, Field\n",
    "from langchain_openai import ChatOpenAI\n",
    "\n",
    "# Data model for LLM output format\n",
    "class GradeDocuments(BaseModel):\n",
    "    \"\"\"Binary score for relevance check on retrieved documents.\"\"\"\n",
    "    binary_score: str = Field(\n",
    "        description=\"Documents are relevant to the question, 'yes' or 'no'\"\n",
    "    )\n",
    "# LLM for grading\n",
    "llm = ChatOpenAI(model=\"gpt-3.5-turbo\", temperature=0)\n",
    "structured_llm_grader = llm.with_structured_output(GradeDocuments)\n",
    "# Prompt template for grading\n",
    "SYS_PROMPT = \"\"\"You are an expert grader assessing relevance of a retrieved document to a user question.\n",
    "                Follow these instructions for grading:\n",
    "                  - If the document contains keyword(s) or semantic meaning related to the question, grade it as relevant.\n",
    "                  - Your grade should be either 'yes' or 'no' to indicate whether the document is relevant to the question or not.\"\"\"\n",
    "\n",
    "grade_prompt = ChatPromptTemplate.from_messages(\n",
    "    [\n",
    "        (\"system\", SYS_PROMPT),\n",
    "        (\"human\", \"\"\"Retrieved document:\n",
    "                     {document}\n",
    "                     User question:\n",
    "                     {question}\n",
    "                  \"\"\"),\n",
    "    ]\n",
    ")\n",
    "# Build grader chain\n",
    "doc_grader = (grade_prompt\n",
    "                  |\n",
    "              structured_llm_grader)\n",
    "\n",
    "# 2.QUESTION REWRITER\n",
    "\n",
    "SYS_PROMPT = \"\"\"Act as a question re-writer and perform the following task:\n",
    "                 - Convert the following input question to a better version that is optimized for web search.\n",
    "                 - When re-writing, look at the input question and try to reason about the underlying semantic intent / meaning.\n",
    "             \"\"\"\n",
    "re_write_prompt = ChatPromptTemplate.from_messages(\n",
    "    [\n",
    "        (\"system\", SYS_PROMPT),\n",
    "        (\"human\", \"\"\"Here is the initial question:\n",
    "                     {question}\n",
    "                     Formulate an improved question.\n",
    "                  \"\"\",\n",
    "        ),\n",
    "    ]\n",
    ")\n",
    "chatgpt = ChatOpenAI(model_name='gpt-3.5-turbo', temperature=0)\n",
    "\n",
    "# Create rephraser chain\n",
    "question_rewriter = (re_write_prompt\n",
    "                        |\n",
    "                       chatgpt\n",
    "                        |\n",
    "                     StrOutputParser())\n",
    "\n",
    "\n",
    "\n",
    "# QA RAG CHAIN\n",
    "prompt1 = \"\"\"You are an assistant for question-answering tasks.\n",
    "            Use the following pieces of retrieved context to answer the question.\n",
    "            If no context is present or if you don't know the answer, just say that you don't know the answer.\n",
    "            Do not make up the answer unless it is there in the provided context.\n",
    "            Give a detailed answer and to the point answer with regard to the question.\n",
    "            Question:\n",
    "            {question}\n",
    "            Context:\n",
    "            {context}\n",
    "            Answer:\n",
    "         \"\"\"\n",
    "prompt_template1 = ChatPromptTemplate.from_template(prompt1)\n",
    "\n",
    "def format_docs(docs):\n",
    "    return \"\\n\\n\".join(doc.page_content for doc in docs)\n",
    "\n",
    "def format_history(history):\n",
    "    return \"\\n\".join(f\"User: {turn['question']}\\nAssistant: {turn['answer']}\" for turn in history)\n",
    "\n",
    "\n",
    "# QA RAG CHAIN\n",
    "prompt2 = \"\"\"You are an assistant for question-answering tasks.\n",
    "            Use the following pieces of retrieved context and conversation history to answer the question.\n",
    "            If no context is present or if you don't know the answer, just say that you don't know the answer.\n",
    "            Do not make up the answer unless it is there in the provided context.\n",
    "            Give a detailed answer and to the point answer with regard to the question.\n",
    "            Conversation History:\n",
    "            {history}\n",
    "            Question:\n",
    "            {question}\n",
    "            Context:\n",
    "            {context}\n",
    "            Answer:\n",
    "         \"\"\"\n",
    "prompt_template2 = ChatPromptTemplate.from_template(prompt2)\n",
    "\n",
    "    \n",
    "# create QA RAG chain with conversation history\n",
    "# create QA RAG chain\n",
    "qa_rag_chain = (\n",
    "    {\n",
    "        \"context\": (itemgetter('context')\n",
    "                        |\n",
    "                    RunnableLambda(format_docs)),\n",
    "        \"question\": itemgetter('question')\n",
    "    }\n",
    "      |\n",
    "    prompt_template1\n",
    "      |\n",
    "    chatgpt\n",
    "      |\n",
    "    StrOutputParser()\n",
    ")\n",
    "\n",
    "qa_rag_chain_with_history = (\n",
    "    {\n",
    "        \"context\": (itemgetter('context') | RunnableLambda(format_docs)),\n",
    "        \"question\": itemgetter('question'),\n",
    "        \"history\": itemgetter('history') | RunnableLambda(format_history)\n",
    "    }\n",
    "    | prompt_template2\n",
    "    | chatgpt\n",
    "    | StrOutputParser()\n",
    ")"
   ]
  },
  {
   "cell_type": "code",
   "execution_count": 45,
   "id": "d837074d",
   "metadata": {},
   "outputs": [
    {
     "data": {
      "text/plain": [
       "VectorStoreRetriever(tags=['Chroma', 'OpenAIEmbeddings'], vectorstore=<langchain_chroma.vectorstores.Chroma object at 0x114f008d0>, search_type='mmr', search_kwargs={})"
      ]
     },
     "execution_count": 45,
     "metadata": {},
     "output_type": "execute_result"
    }
   ],
   "source": [
    "retriever"
   ]
  },
  {
   "cell_type": "code",
   "execution_count": 78,
   "id": "71747e5f",
   "metadata": {},
   "outputs": [],
   "source": [
    "# BUILDING THE RAG AGENT\n",
    "from typing import List\n",
    "from typing_extensions import TypedDict\n",
    "class GraphState(TypedDict):\n",
    "    \"\"\"\n",
    "    Represents the state of our graph.\n",
    "    Attributes:\n",
    "        question: question\n",
    "        generation: LLM response generation\n",
    "        web_search_needed: flag of whether to add web search - yes or no\n",
    "        documents: list of context documents\n",
    "    \"\"\"\n",
    "    question: str\n",
    "    generation: str\n",
    "    web_search_needed: str\n",
    "    documents: List[str]\n",
    "    history: List[dict]\n",
    "\n",
    "def retrieve_v2(state:GraphState):\n",
    "    question = state['question']\n",
    "    retrieved_docs = p_retriever.invoke(question)\n",
    "    return {\"documents\": retrieved_docs, \"question\": question}\n",
    "\n",
    "def format_docs(docs):\n",
    "    return \"\\n\\n\".join(doc.page_content for doc in docs)\n",
    "\n",
    "\n",
    "\n",
    "def grade_documents(state:GraphState):\n",
    "    question = state['question']\n",
    "    documents = state['documents']\n",
    "    \n",
    "    filtered_docs = []\n",
    "    web_search_needed = 'No'\n",
    "    if documents:\n",
    "        for d in documents:\n",
    "            score = doc_grader.invoke({'question':question, 'document': d.page_content})\n",
    "            grade = score.binary_score\n",
    "            if grade == 'yes':\n",
    "                filtered_docs.append(d)\n",
    "            else:\n",
    "                web_search_needed = 'Yes'\n",
    "    else:\n",
    "        web_search_needed = 'Yes'\n",
    "        \n",
    "    return {\"documents\": filtered_docs, \"question\": question, \n",
    "            \"web_search_needed\": web_search_needed}\n",
    "        \n",
    "def rewrite_query(state:GraphState):\n",
    "    question = state[\"question\"]\n",
    "    documents = state[\"documents\"]\n",
    "    better_question = question_rewriter.invoke({\"question\": question})\n",
    "    return {\"documents\": documents, \"question\": better_question}\n",
    "\n",
    "def web_search(state:GraphState):\n",
    "    question = state['question']\n",
    "    documents = state['documents']\n",
    "    \n",
    "    docs = tv_search.invoke(question)\n",
    "    web_results = \"\\n\\n\".join([d[\"content\"] for d in docs])\n",
    "    web_results = Document(page_content=web_results)\n",
    "    documents.append(web_results)\n",
    "    return {\"documents\": documents, \"question\": question}\n",
    "\n",
    "def generate_answer(state:GraphState):\n",
    "    question = state['question']\n",
    "    documents = state['documents']\n",
    "    generation = qa_rag_chain.invoke({\"context\": documents, \"question\": question})\n",
    "    return {\"documents\": documents, \"question\": question, \n",
    "            \"generation\": generation}\n",
    "\n",
    "def generate_answer_v2(state:GraphState):\n",
    "    question = state['question']\n",
    "    documents = state['documents']\n",
    "    history = state['history']\n",
    "\n",
    "    response = qa_rag_chain_with_history.invoke({\"question\": question, \"context\": documents, \"history\": history})\n",
    "    history.append({\"question\": question, \"answer\": response})\n",
    "\n",
    "    return {\"documents\": documents, \"question\": question, \"generation\": response, \"history\": history}\n",
    "\n",
    "def should_generate(state:GraphState):\n",
    "    web_search_needed = state['web_search_needed']\n",
    "    \n",
    "    if web_search_needed =='Yes':\n",
    "        return 'web_search'\n",
    "        #return 'rewrite_query'\n",
    "    return 'generate_answer_v2'"
   ]
  },
  {
   "cell_type": "code",
   "execution_count": 79,
   "id": "db93b2fb",
   "metadata": {},
   "outputs": [],
   "source": [
    "from langgraph.graph import END, StateGraph\n",
    "\n",
    "agentic_rag = StateGraph(GraphState)\n",
    "agentic_rag.add_node(\"retrieve_v2\", retrieve_v2)\n",
    "agentic_rag.add_node(\"grade_documents\", grade_documents)\n",
    "#agentic_rag.add_node(\"rewrite_query\", rewrite_query)\n",
    "agentic_rag.add_node(\"web_search\", web_search)\n",
    "agentic_rag.add_node(\"generate_answer_v2\", generate_answer_v2)\n",
    "\n",
    "agentic_rag.set_entry_point(\"retrieve_v2\")\n",
    "agentic_rag.add_edge(\"retrieve_v2\", \"grade_documents\")\n",
    "\n",
    "agentic_rag.add_conditional_edges(\n",
    "    \"grade_documents\",\n",
    "    should_generate,\n",
    "    {\"web_search\": \"web_search\", \"generate_answer_v2\": \"generate_answer_v2\"},\n",
    ")\n",
    "#agentic_rag.add_edge(\"rewrite_query\", \"web_search\")\n",
    "agentic_rag.add_edge(\"web_search\", \"generate_answer_v2\")\n",
    "agentic_rag.add_edge(\"generate_answer_v2\", END)\n",
    "agentic_rag_compiled = agentic_rag.compile()"
   ]
  },
  {
   "cell_type": "code",
   "execution_count": 80,
   "id": "86f7c105",
   "metadata": {},
   "outputs": [
    {
     "data": {
      "image/png": "[encoded data removed]",
      "text/plain": [
       "<IPython.core.display.Image object>"
      ]
     },
     "metadata": {},
     "output_type": "display_data"
    }
   ],
   "source": [
    "from IPython.display import Image, display, Markdown\n",
    "display(Image(agentic_rag_compiled.get_graph().draw_mermaid_png()))"
   ]
  },
  {
   "cell_type": "code",
   "execution_count": 86,
   "id": "eba8c184",
   "metadata": {
    "scrolled": true
   },
   "outputs": [
    {
     "name": "stdout",
     "output_type": "stream",
     "text": [
      "Gemini is Google's most capable AI model yet, designed to accelerate the development of large-scale generative AI models and help developers and enterprise customers train them faster. Gemini provides direct access to Google AI, offering assistance with writing, planning, learning, and more. It is equipped with comprehensive safety evaluations, including for bias and toxicity, making it one of the most advanced AI models from Google to date. Additionally, Bard Advanced, a cutting-edge AI experience, will be launched soon, providing access to the best models and capabilities starting with Gemini Ultra.\n"
     ]
    }
   ],
   "source": [
    "query = \"what is gemini?\"\n",
    "#response = agentic_rag_compiled.invoke({\"question\": query})\n",
    "\n",
    "# First invocation\n",
    "query1 = \"What is gemini?\"\n",
    "state1 = agentic_rag_compiled.invoke({\n",
    "    \"question\": query1,\n",
    "    \"documents\": [],\n",
    "    \"web_search_needed\": \"No\",\n",
    "    \"history\": []  # Initial empty history\n",
    "})\n",
    "print(state1['generation'])"
   ]
  },
  {
   "cell_type": "code",
   "execution_count": 87,
   "id": "e1cc1ad6",
   "metadata": {},
   "outputs": [
    {
     "name": "stdout",
     "output_type": "stream",
     "text": [
      "Some of the competitors to Gemini in the AI model space include OpenAI's GPT-3, Microsoft's Turing-NLG, and Facebook's RoBERTa. These models are also large-scale generative AI models that offer advanced capabilities for various tasks such as natural language processing, text generation, and more. Each of these competitors has its strengths and weaknesses, and developers and enterprise customers may choose one over the other based on their specific requirements and use cases. Conducting a thorough competitive analysis can help in understanding how Gemini stacks up against its competitors in terms of features, performance, safety evaluations, and overall capabilities.\n"
     ]
    }
   ],
   "source": [
    "# Create a new state, but keep the history from state1\n",
    "query2='Who-are-its-competitors'\n",
    "state2 = {\n",
    "    \"question\": query2,\n",
    "    \"documents\": [],  # Reset documents\n",
    "    \"web_search_needed\": \"No\",  # Reset web_search_needed\n",
    "    \"history\": state1[\"history\"]  # Keep the history\n",
    "}\n",
    "state2 = agentic_rag_compiled.invoke(state2)\n",
    "print(state2['generation'])"
   ]
  },
  {
   "cell_type": "code",
   "execution_count": null,
   "id": "3102ba59",
   "metadata": {},
   "outputs": [],
   "source": [
    "# Create a new state, but keep the history from state1\n",
    "query2='Who-are-its-competitors'\n",
    "state2 = {\n",
    "    \"question\": query2,\n",
    "    \"documents\": [],  # Reset documents\n",
    "    \"web_search_needed\": \"No\",  # Reset web_search_needed\n",
    "    \"history\": state1[\"history\"]  # Keep the history\n",
    "}\n",
    "state2 = agentic_rag_compiled.invoke(state2)\n",
    "print(state2['generation'])"
   ]
  },
  {
   "cell_type": "code",
   "execution_count": 85,
   "id": "05f06cc0",
   "metadata": {},
   "outputs": [
    {
     "name": "stdout",
     "output_type": "stream",
     "text": [
      "Gemini is Google's most capable AI model yet, designed to accelerate the development of large-scale generative AI models. It allows developers and enterprise customers to train models faster, bringing new products and capabilities to customers sooner. Gemini has comprehensive safety evaluations, including for bias and toxicity, making it one of the safest AI models from Google to date. Users have direct access to Google AI for assistance with writing, planning, learning, and more. Gemini is part of Google's efforts to provide cutting-edge AI experiences to users through platforms like Bard Advanced.\n"
     ]
    }
   ],
   "source": [
    "state2 = agentic_rag_compiled.invoke(state1)\n",
    "query2 = \"Summarize the key points.giveonewo\"\n",
    "print(state2['generation'])"
   ]
  },
  {
   "cell_type": "code",
   "execution_count": 88,
   "id": "5a1b2703",
   "metadata": {},
   "outputs": [
    {
     "data": {
      "text/plain": [
       "{'question': 'what is gemini?',\n",
       " 'generation': \"Gemini is Google's most capable AI model yet, designed to accelerate the development of large-scale generative AI models and help developers and enterprise customers train them faster. Gemini provides direct access to Google AI for tasks such as writing, planning, and learning. It is equipped with comprehensive safety evaluations, including for bias and toxicity, making it one of the most advanced AI models from Google to date. Additionally, Gemini will be launching Bard Advanced, a cutting-edge AI experience that offers access to the best models and capabilities, starting with Gemini Ultra.\",\n",
       " 'web_search_needed': 'Yes',\n",
       " 'documents': [Document(metadata={}, page_content='Introducing Gemini: Google’s most capable AI model yet This next generation TPU will accelerate Gemini’s development and help developers and enterprise customers train large-scale generative AI models faster, allowing new products and capabilities to reach customers sooner. Building upon Google’s AI Principles and the robust safety policies across our products, we’re adding new protections to account for Gemini’s multimodal capabilities. Gemini has the most comprehensive safety evaluations of any Google AI model to date, including for bias and toxicity. Early next year, we’ll also launch Bard Advanced, a new, cutting-edge AI experience that gives you access to our best models and capabilities, starting with Gemini Ultra.\\n\\nGemini gives you direct access to Google AI. Get help with writing, planning, learning, and more. How Gemini works. The simple answer.\\n\\nBard is now Gemini. Get help with writing, planning, learning, and more from Google AI.')]}"
      ]
     },
     "execution_count": 88,
     "metadata": {},
     "output_type": "execute_result"
    }
   ],
   "source": [
    "response"
   ]
  },
  {
   "cell_type": "code",
   "execution_count": 91,
   "id": "ea31ce5b",
   "metadata": {
    "scrolled": true
   },
   "outputs": [
    {
     "name": "stdout",
     "output_type": "stream",
     "text": [
      "Ask a question about your documents or (STOP) to stop the conversation: What-is-claude\n",
      "\n",
      "Claude AI is a generative artificial intelligence chatbot and a family of large language models developed by the research firm Anthropic. Claude adheres to Anthropic's Constitutional AI philosophy, which is a code of ethical norms that differentiates Claude from other AI models like ChatGPT and Google's Gemini. Anthropic offers free access to their best Claude model through their chat interface at claude.ai, which is still in open beta testing as of October 2023. The free tier of Claude AI provides users with access to Anthropic's latest and most capable model, Claude 2. Developers can access Claude AI models through the Anthropic API or Amazon Bedrock. Claude is known for its 100K token input limit, transparent approach to AI safety with a \"constitution,\" and the free access to the best Claude model developed so far, Claude-2.\n",
      "Ask a question about your documents or (STOP) to stop the conversation: How does it compare with Gemini\n",
      "\n",
      "In comparison with Gemini, Claude AI offers a unique approach to AI ethics and safety through Anthropic's Constitutional AI philosophy. While Gemini and ChatGPT focus on providing AI chatbot services, Claude stands out for its transparent approach to AI safety with a \"constitution\" that sets ethical norms for its operation. Additionally, Claude offers free access to its best model, Claude-2, through the claude.ai platform, which is still in open beta testing as of October 2023. This contrasts with Gemini's paid versions, such as Gemini Advanced, which may offer additional features but come at a cost. Overall, Claude AI distinguishes itself through its ethical framework, transparent safety measures, and free access to its latest and most capable model, making it a compelling choice for users seeking an AI chatbot with a focus on ethics and safety.\n",
      "Ask a question about your documents or (STOP) to stop the conversation: is it better than chat gpt, evaluate pros and cons\n",
      "\n",
      "Claude AI and ChatGPT both have their own set of pros and cons, making it important to evaluate them based on specific needs and preferences.\n",
      "\n",
      "Pros of Claude AI:\n",
      "1. Ethical Framework: Claude AI follows Anthropic's Constitutional AI philosophy, setting ethical norms for its operation, which can provide users with a sense of transparency and trust.\n",
      "2. Transparent AI Safety Measures: Claude's approach to AI safety includes a \"constitution\" that ensures a transparent and accountable operation, addressing concerns related to AI ethics.\n",
      "3. Free Access to Best Model: Claude offers free access to its latest and most capable model, Claude-2, through the claude.ai platform, which can be a cost-effective option for users.\n",
      "\n",
      "Cons of Claude AI:\n",
      "1. Limited Input Tokens: Claude AI has a 100K token input limit, which may restrict the length and complexity of generated content compared to other models.\n",
      "2. Open Beta Testing: As of October 2023, Claude AI is still in open beta testing, which could mean potential bugs or limitations in its functionality.\n",
      "\n",
      "Pros of ChatGPT:\n",
      "1. Speed and Accuracy: ChatGPT allows for quick and accurate text generation, which can be beneficial for tasks that require rapid completion.\n",
      "2. Wide Usage and Recognition: ChatGPT is well-known and widely used, which may provide a sense of reliability and familiarity to users.\n",
      "\n",
      "Cons of ChatGPT:\n",
      "1. Limited Complexity: ChatGPT may struggle with more complex ideas or topics, limiting its ability to generate content on certain subjects.\n",
      "2. Paid Versions: While ChatGPT offers free versions, advanced features may require payment, which could be a drawback for users looking for cost-effective solutions.\n",
      "\n",
      "In conclusion, Claude AI excels in its ethical framework, transparent safety measures, and free access to its best model, making it a strong choice for users prioritizing ethics and safety. On the other hand, ChatGPT's speed and recognition can be advantageous, but its limitations in handling complexity and potential costs for advanced features should be considered. Ultimately, the choice between Claude AI and ChatGPT depends on individual preferences and requirements for AI chatbot services.\n",
      "Ask a question about your documents or (STOP) to stop the conversation: stop\n"
     ]
    }
   ],
   "source": [
    "count = 0\n",
    "state1 = None\n",
    "\n",
    "while True:\n",
    "    query = input(\"\\033[94mAsk a question about your documents or (STOP) to stop the conversation:\\033[0m \")  # Blue prompt\n",
    "    if query.upper() == 'STOP':\n",
    "        break\n",
    "\n",
    "    if count == 0:\n",
    "        state1 = agentic_rag_compiled.invoke({\n",
    "            \"question\": query,\n",
    "            \"documents\": [],\n",
    "            \"web_search_needed\": \"No\",\n",
    "            \"history\": []\n",
    "        })\n",
    "    else:\n",
    "        temp_state = {\n",
    "            \"question\": query,\n",
    "            \"documents\": [],\n",
    "            \"web_search_needed\": \"No\",\n",
    "            \"history\": state1[\"history\"]\n",
    "        }\n",
    "        state1 = agentic_rag_compiled.invoke(temp_state)\n",
    "        \n",
    "\n",
    "    print(\"\\n\" + state1['generation'])  # Black response with newline\n",
    "    count += 1"
   ]
  },
  {
   "cell_type": "code",
   "execution_count": 64,
   "id": "e65177ca",
   "metadata": {},
   "outputs": [
    {
     "data": {
      "text/plain": [
       "\"Gemini is Google's most capable AI model yet, designed to accelerate the development of large-scale generative AI models and help developers and enterprise customers train them faster. Gemini provides direct access to Google AI for tasks such as writing, planning, and learning. It is equipped with comprehensive safety evaluations, including for bias and toxicity, making it one of the most advanced AI models from Google to date. Additionally, Gemini will be launching Bard Advanced, a cutting-edge AI experience that offers access to the best models and capabilities, starting with Gemini Ultra.\""
      ]
     },
     "execution_count": 64,
     "metadata": {},
     "output_type": "execute_result"
    }
   ],
   "source": [
    "response['generation']"
   ]
  },
  {
   "cell_type": "code",
   "execution_count": 65,
   "id": "90854d54",
   "metadata": {},
   "outputs": [],
   "source": [
    "query = \"who-created-it?\"\n",
    "response = agentic_rag_compiled.invoke({\"question\": query})"
   ]
  },
  {
   "cell_type": "code",
   "execution_count": 66,
   "id": "ebd0609a",
   "metadata": {
    "scrolled": true
   },
   "outputs": [
    {
     "data": {
      "text/plain": [
       "{'question': 'who-created-it?',\n",
       " 'generation': 'The study series for beginning readers ages 4-7 was created by the director, screenwriters, and other individuals involved in the production of the series. The specific creator or creators are not mentioned in the provided context.',\n",
       " 'web_search_needed': 'Yes',\n",
       " 'documents': [Document(metadata={}, page_content='An all-new study series for beginning readers ages 4-7. Each book is designed to help children build a familiarity with and love for God\\'s Word at an early age.\\n\\nMaria Sciullo of The Pittsburgh Post-Gazette wrote: \"Dylan Grazer and Lillis are standouts among a pretty good bunch of child actors.\"[450] Tasha Robinson of The Verge praised all seven of the central children, saying each are \"well-cast and give strong performances\" in the film.[451] She also said Ray Taylor\\'s portrayal of Ben Hanscom is \"surprisingly tender and nuanced\", Skarsgård seemed \"like a real threat\" as Pennywise, and that Lillis is close to \"heartbreaking\" as Beverly Marsh.[451] Christy Lemire of RogerEbert.com wrote that \"Despite the many terrifying moments they endure in their quest scenes that will leave you trembling and giggling at once It is even more powerful in the warm, easy camaraderie between its young stars.\"[452] Lemire praised the \"well-chosen\" cast, saying the \"that combination of tones\" from the performances make the film work.[452] She spoke of Skarsgård as \"working well,\" as he doesn\\'t appear to be laboring so hard to frighten, and that Lillis displays a \"star-making\" performance\".[452] Marc Savlov of The Austin Chronicle heralded the film, its director, and screenwriters, by stating: \"Muschietti and screenwriters Palmer, Fukunaga, and Dauberman have managed the translation to the big screen nearly as well as Rob Reiner did with Stand by Me (1986).[453] Entertainment Weekly journalist Chris Nashawaty summarized \"It is essentially two movies.')]}"
      ]
     },
     "execution_count": 66,
     "metadata": {},
     "output_type": "execute_result"
    }
   ],
   "source": [
    "response"
   ]
  },
  {
   "cell_type": "code",
   "execution_count": null,
   "id": "542c12c6",
   "metadata": {
    "scrolled": true
   },
   "outputs": [],
   "source": []
  },
  {
   "cell_type": "code",
   "execution_count": null,
   "id": "104e87e7",
   "metadata": {},
   "outputs": [],
   "source": []
  }
 ],
 "metadata": {
  "kernelspec": {
   "display_name": "Python 3 (ipykernel)",
   "language": "python",
   "name": "python3"
  },
  "language_info": {
   "codemirror_mode": {
    "name": "ipython",
    "version": 3
   },
   "file_extension": ".py",
   "mimetype": "text/x-python",
   "name": "python",
   "nbconvert_exporter": "python",
   "pygments_lexer": "ipython3",
   "version": "3.11.8"
  }
 },
 "nbformat": 4,
 "nbformat_minor": 5
}
